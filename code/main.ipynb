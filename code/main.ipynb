{
 "cells": [
  {
   "cell_type": "code",
   "execution_count": 1,
   "metadata": {},
   "outputs": [],
   "source": [
    "import numpy as np\n",
    "import matplotlib.pyplot as plt\n",
    "from tqdm import tqdm_notebook as tqdm\n",
    "\n",
    "from tensorboardX import SummaryWriter\n",
    "import torchvision.utils as vutils"
   ]
  },
  {
   "cell_type": "code",
   "execution_count": 2,
   "metadata": {},
   "outputs": [],
   "source": [
    "import torch\n",
    "import torch.nn as nn\n",
    "import torch.nn.functional as F\n",
    "import torch.optim as optim"
   ]
  },
  {
   "cell_type": "code",
   "execution_count": 3,
   "metadata": {},
   "outputs": [],
   "source": [
    "plt.rcParams['lines.linewidth'] = 3\n",
    "plt.rcParams['lines.markersize'] = 12\n",
    "plt.rcParams['xtick.labelsize'] = 24\n",
    "plt.rcParams['ytick.labelsize'] = 24\n",
    "plt.rcParams['legend.fontsize'] = 40\n",
    "plt.rcParams['axes.titlesize']=36\n",
    "plt.rcParams['axes.labelsize']=24\n",
    "plt.rcParams['figure.figsize'] = (24.0, 12.0)\n",
    "plt.rcParams['font.size'] = 40"
   ]
  },
  {
   "cell_type": "code",
   "execution_count": 4,
   "metadata": {},
   "outputs": [],
   "source": [
    "device = torch.device(\"cuda\" if torch.cuda.is_available() else \"cpu\")"
   ]
  },
  {
   "cell_type": "markdown",
   "metadata": {},
   "source": [
    "# Data"
   ]
  },
  {
   "cell_type": "code",
   "execution_count": 5,
   "metadata": {},
   "outputs": [],
   "source": [
    "list_of_frequents = np.array([600, 450, 300, 150, 100])\n",
    "list_of_A = np.array([0.1, 0.25, 0.5, 0.75, 1.0, 1.25])\n",
    "\n",
    "\n",
    "def align(k, window = 5):\n",
    "    k = np.asarray(k)\n",
    "    length = k.shape[0]\n",
    "    for i in range(0, length, window):\n",
    "        k[i:i + window] = k[i:i + window]*0 + k[i]\n",
    "    \n",
    "    \n",
    "    return k\n",
    "\n",
    "def GeneratorOfTimeSeries(n = 60, m = 128):\n",
    "    X = np.ones([m, n])*np.linspace(start = 0, stop = 0.1, num = n)\n",
    "    T1 = []\n",
    "    T2 = []\n",
    "    for x in X:\n",
    "#         ind = np.random.randint(0, len(list_of_frequents), size = n)\n",
    "#         k = align(list_of_frequents[ind], 15)\n",
    "#         A = align(list_of_A[ind], 15)\n",
    "#         T1.append(A*np.sin(k*x))\n",
    "#         T2.append(A*np.sin(k*x))\n",
    "        ARR = np.random.randn(n)\n",
    "        T1.append(ARR)\n",
    "        T2.append(ARR)\n",
    "        \n",
    "    T1 = np.asarray(T1)\n",
    "    T2 = np.asarray(T2)\n",
    "    return X, np.reshape(T1, [T1.shape[0], T1.shape[1], 1]), np.reshape(T2, [T2.shape[0], T2.shape[1], 1])\n"
   ]
  },
  {
   "cell_type": "code",
   "execution_count": 6,
   "metadata": {},
   "outputs": [],
   "source": [
    "step, X_train, Y_train = GeneratorOfTimeSeries()\n",
    "step, X_test, Y_test = GeneratorOfTimeSeries()"
   ]
  },
  {
   "cell_type": "code",
   "execution_count": 7,
   "metadata": {},
   "outputs": [
    {
     "data": {
      "text/plain": [
       "[<matplotlib.lines.Line2D at 0x11a70b550>]"
      ]
     },
     "execution_count": 7,
     "metadata": {},
     "output_type": "execute_result"
    },
    {
     "data": {
      "image/png": "[encoded data removed]",
      "text/plain": [
       "<Figure size 1728x864 with 1 Axes>"
      ]
     },
     "metadata": {},
     "output_type": "display_data"
    }
   ],
   "source": [
    "plt.plot(step[0], X_train[0], 'o')"
   ]
  },
  {
   "cell_type": "markdown",
   "metadata": {},
   "source": [
    "# Generator"
   ]
  },
  {
   "cell_type": "code",
   "execution_count": 8,
   "metadata": {},
   "outputs": [],
   "source": [
    "def batches_generator(batch_size, input, output, shuffle=True, allow_smaller_last_batch=True, device = 'cpu'):\n",
    "    n_samples = len(input)\n",
    "    \n",
    "    list_of_indexes = np.linspace(0, len(input) - 1, len(input), dtype=np.int64)\n",
    "    list_of_x = []\n",
    "    list_of_y = []\n",
    "    \n",
    "    if shuffle:\n",
    "        np.random.shuffle(list_of_indexes)\n",
    "        \n",
    "    for indx in list_of_indexes:\n",
    "        list_of_x.append(input[indx])\n",
    "        list_of_y.append(output[indx])\n",
    "    \n",
    "    n_batches = n_samples//batch_size\n",
    "\n",
    "    if n_samples%batch_size != 0:\n",
    "        n_batches+=1\n",
    "        \n",
    "    for k in range(n_batches):\n",
    "        this_batch_size = batch_size\n",
    "        \n",
    "        if k == n_batches - 1:\n",
    "            if n_samples%batch_size > 0:\n",
    "                this_batch_size = n_samples%batch_size\n",
    "            if allow_smaller_last_batch is False:\n",
    "                if this_batch_size < batch_size:\n",
    "                    break\n",
    "\n",
    "        length_of_sentence_x = 0\n",
    "        length_of_sentence_y = 0\n",
    "        for t in range(k*batch_size, k*batch_size + this_batch_size):\n",
    "            if len(list_of_x[t]) > length_of_sentence_x:\n",
    "                length_of_sentence_x = len(list_of_x[t])\n",
    "            if len(list_of_y[t]) > length_of_sentence_y:\n",
    "                length_of_sentence_y = len(list_of_y[t])\n",
    "        \n",
    "        x_arr = np.ones(shape=[this_batch_size, length_of_sentence_x, 1])*0\n",
    "        y_arr = np.ones(shape=[this_batch_size, length_of_sentence_y, 1])*0\n",
    "        \n",
    "        for i in range(this_batch_size):\n",
    "            for j, (x, y) in enumerate(zip(list_of_x[k*batch_size + i], list_of_y[k*batch_size + i])):\n",
    "                x_arr[i, j, 0] = x\n",
    "                y_arr[i, j, 0] = y\n",
    "                \n",
    "            \n",
    "        x_tr = torch.FloatTensor(x_arr)\n",
    "        y_tr = torch.FloatTensor(y_arr)\n",
    "        \n",
    "        x_tr = x_tr.float().to(device)\n",
    "        y_tr = y_tr.float().to(device)\n",
    "        yield x_tr, y_tr\n",
    "    return"
   ]
  },
  {
   "cell_type": "markdown",
   "metadata": {},
   "source": [
    "# Define Attention"
   ]
  },
  {
   "cell_type": "code",
   "execution_count": 9,
   "metadata": {},
   "outputs": [],
   "source": [
    "class Attention(nn.Module):\n",
    "    def __init__(self):\n",
    "        super(Attention, self).__init__()\n",
    "\n",
    "    def get_scores(self, e, h):\n",
    "        \"\"\"\n",
    "        features: [batch_size x num_objects x obj_feature_dim]\n",
    "        queries:  [batch_size x num_queries x query_feature_dim]\n",
    "        Returns matrix of scores with shape [batch_size x num_queries x num_objects].\n",
    "        \n",
    "        e has a shape [batch_size, time_len_in_e, dim_e]\n",
    "        h has a shape [batch_size, time_len_in_h, dim_h]\n",
    "        Returns matrix of scores with shape [batch_size, time_len_in_h, time_len_in_e].\n",
    "        \"\"\"\n",
    "        raise NotImplementedError()                \n",
    "\n",
    "    def forward(self, e, h):\n",
    "        \"\"\"\n",
    "        features:        [batch_size x num_objects x obj_feature_dim]\n",
    "        queries:         [batch_size x num_queries x query_feature_dim]\n",
    "        Returns matrix of features for queries with shape [batch_size x num_queries x obj_feature_dim].\n",
    "        \n",
    "        e has a shape [batch_size, time_len_in_e, dim_e]\n",
    "        h has a shape [batch_size, time_len_in_h, dim_h]     \n",
    "        \n",
    "        result has a shape [batch_size, time_len_in_h, dim_e]\n",
    "        alpha has a shape [batch_size, time_len_in_h, time_len_in_e]\n",
    "        \n",
    "        \"\"\"\n",
    "        scores = self.get_scores(e, h)\n",
    "        alphas = F.softmax(scores, 2)\n",
    "        result = torch.bmm(alphas, e)\n",
    "        return result, torch.tensor(alphas.detach())\n",
    "    \n",
    "class AdditiveAttention(Attention):\n",
    "    def __init__(self, dim_e, dim_h, hidden_dim):\n",
    "        \"\"\"\n",
    "        obj_feature_dim   - dimensionality of attention object features vector\n",
    "        query_feature_dim - dimensionality of attention query vector\n",
    "        hidden_dim        - dimensionality of latent vectors of attention\n",
    "        \n",
    "        dim_e      - hidden dimension of encoder\n",
    "        \n",
    "        dim_h      - hidden dimension of decoder\n",
    "    \n",
    "        hidden_dim        - hidden dimension of attention\n",
    "        \n",
    "        \n",
    "        \"\"\"\n",
    "        super(AdditiveAttention, self).__init__()\n",
    "        \n",
    "        self.dim_e = dim_e\n",
    "        self.dim_h = dim_h\n",
    "        self.hidden_dim = hidden_dim\n",
    "        \n",
    "        self.W1 = nn.Linear(dim_e, hidden_dim, bias=False)\n",
    "        self.W2 = nn.Linear(dim_h, hidden_dim, bias=False)\n",
    "        self.w3 = nn.Linear(hidden_dim, 1, bias=False)\n",
    "\n",
    "    def get_scores(self, e, h):\n",
    "        \"\"\"\n",
    "        features: [batch_size x num_objects x obj_feature_dim]\n",
    "        queries:  [batch_size x num_queries x query_feature_dim]\n",
    "        Returns matrix of scores with shape [batch_size x num_queries x num_objects].\n",
    "        \n",
    "        e has a shape [batch_size, time_len_in_e, dim_e]\n",
    "        h has a shape [batch_size, time_len_in_h, dim_h]\n",
    "        Returns matrix of scores with shape [batch_size, time_len_in_h, time_len_in_e].\n",
    "        \n",
    "        \"\"\"\n",
    "        f = self.W1(e).view(e.shape[0], 1, e.shape[1], -1)\n",
    "        q = self.W2(h).view(h.shape[0], h.shape[1], 1, -1)\n",
    "        a = torch.tanh(f + q)\n",
    "        result = self.w3(a)[:, :, :, 0]\n",
    "        return result\n",
    "    \n",
    "    \n",
    "class MultiplicativeAttention(Attention):\n",
    "    \"\"\"\n",
    "    Luong et al. \"Effective approaches to attention-based neural machine translation\", 2015.\n",
    "    \"\"\"\n",
    "    def __init__(self):\n",
    "        super(MultiplicativeAttention, self).__init__()\n",
    "\n",
    "    def get_scores(self, e, h):\n",
    "        \"\"\"\n",
    "        features: [batch_size x num_objects x feature_dim]\n",
    "        queries:  [batch_size x num_queries x feature_dim]\n",
    "        Returns matrix of scores with shape [batch_size x num_queries x num_objects].\n",
    "        \n",
    "        e has a shape [batch_size, time_len_in_e, dim_e]\n",
    "        h has a shape [batch_size, time_len_in_h, dim_h]\n",
    "        Returns matrix of scores with shape [batch_size, time_len_in_h, time_len_in_e].\n",
    "        \"\"\"\n",
    "        return torch.bmm(h, e.transpose(1, 2))"
   ]
  },
  {
   "cell_type": "markdown",
   "metadata": {},
   "source": [
    "# Define seq2seq"
   ]
  },
  {
   "cell_type": "code",
   "execution_count": 10,
   "metadata": {},
   "outputs": [],
   "source": [
    "class seq2seq(nn.Module):\n",
    "    def __init__(self, input_dim, hidden_dim, output_dim, a_hidden_dim = 10, num_layers=2, device = 'cpu'):\n",
    "        super(seq2seq, self).__init__()\n",
    "        \n",
    "        self.input_dim = input_dim\n",
    "        self.hidden_dim = hidden_dim\n",
    "        self.output_dim = output_dim\n",
    "        self.num_layers = num_layers\n",
    "        self.device = device\n",
    "        \n",
    "        self.encoder = nn.LSTM(input_dim, hidden_dim, num_layers, bidirectional = True)\n",
    "        \n",
    "        self.decoder = nn.LSTM(output_dim + 2*hidden_dim, hidden_dim, num_layers, bidirectional = True)\n",
    "#         self.decoder = nn.LSTM(output_dim, hidden_dim, num_layers, bidirectional = False)\n",
    "        self.linear = nn.Linear(2*hidden_dim, output_dim)\n",
    "    \n",
    "        self.attention = AdditiveAttention(2*hidden_dim, 2*hidden_dim, a_hidden_dim)\n",
    "#         self.attention = MultiplicativeAttention()\n",
    "        \n",
    "        self.to(device)\n",
    "        \n",
    "    def forward(self, input, max_len = 50):\n",
    "        \"\"\"\n",
    "        input data:\n",
    "        \n",
    "        input has a shape [batch_size, time_len_in, input_dim]\n",
    "        max_len is a maximum of generative sentence\n",
    "        \n",
    "        return data:\n",
    "        decoder_out has a shape [batch_size, max_len, output_dim]\n",
    "    \n",
    "        \"\"\"\n",
    "        input = torch.transpose(input, 0, 1)\n",
    "        answer = torch.zeros(1, input.shape[1], self.output_dim)\n",
    "        \n",
    "        decoder_out = torch.zeros(max_len, input.shape[1], self.output_dim)\n",
    "        \n",
    "        encoder_out, (encoder_h, encoder_c) = self.encoder(input)\n",
    "        decoder_in = encoder_out[-1].unsqueeze(0)\n",
    "        encoder_out = torch.transpose(encoder_out, 0, 1)\n",
    "        \n",
    "\n",
    "        for i in range(max_len):\n",
    "            decoder_in = torch.transpose(decoder_in, 0, 1)\n",
    "            contex, _ = self.attention(encoder_out, decoder_in)\n",
    "            contex = torch.transpose(contex, 0, 1)\n",
    "            \n",
    "            answer = torch.cat((answer, contex), dim = 2)\n",
    "            \n",
    "            decoder_in, (encoder_h, encoder_c) = self.decoder(answer, (encoder_h, encoder_c))\n",
    "            answer = self.linear(decoder_in)\n",
    "            decoder_out[i] = answer[0]\n",
    "        \n",
    "        return torch.transpose(decoder_out, 0, 1)\n",
    "    \n",
    "    def train_on_batch(self, x_batch, y_batch, optimizer, loss_function):\n",
    "        \"\"\"\n",
    "        x_batch has a shape [batch_size, time_len_in, input_dim]\n",
    "        y_batch has a shape [batch_size, time_len_out, output_dim]\n",
    "        \"\"\"\n",
    "        self.zero_grad()\n",
    "        output = self.forward(x_batch, max_len = y_batch.shape[1])\n",
    "    \n",
    "        loss = loss_function(output, y_batch)\n",
    "        loss.backward()\n",
    "\n",
    "        optimizer.step()\n",
    "        \n",
    "        return loss.data.numpy()\n",
    "    \n",
    "    def pred_loss(self, x_batch, y_batch, loss_function):\n",
    "        output = self.forward(x_batch, max_len = y_batch.shape[1])\n",
    "        return loss_function(output, y_batch)\n",
    "\n",
    "    def get_attention(self, input, max_len = 50):\n",
    "        \"\"\"\n",
    "        input data:\n",
    "        \n",
    "        input has a shape [batch_size, time_len_in, input_dim]\n",
    "        max_len is a maximum of generative sentence\n",
    "        \n",
    "        return data:\n",
    "        decoder_out has a shape [batch_size, max_len, output_dim]\n",
    "        alphas has a shape [batch_size, max_len, time_len_in_e]\n",
    "    \n",
    "        \"\"\"\n",
    "        input = torch.transpose(input, 0, 1)\n",
    "        answer = torch.zeros(1, input.shape[1], self.output_dim)\n",
    "        \n",
    "        decoder_out = torch.zeros(max_len, input.shape[1], self.output_dim)\n",
    "        \n",
    "        encoder_out, (encoder_h, encoder_c) = self.encoder(input)\n",
    "        decoder_in = encoder_out[-1].unsqueeze(0)\n",
    "        encoder_out = torch.transpose(encoder_out, 0, 1)\n",
    "        \n",
    "        alphas = torch.zeros(input.shape[1], max_len, input.shape[0])\n",
    "\n",
    "        for i in range(max_len):\n",
    "            decoder_in = torch.transpose(decoder_in, 0, 1)\n",
    "            contex, alpha = self.attention(encoder_out, decoder_in)\n",
    "            contex = torch.transpose(contex, 0, 1)\n",
    "            alphas[:, i, :] = alpha[:,0,:] \n",
    "            \n",
    "            answer = torch.cat((answer, contex), dim = 2)\n",
    "            \n",
    "            decoder_in, (encoder_h, encoder_c) = self.decoder(answer, (encoder_h, encoder_c))\n",
    "            answer = self.linear(decoder_in)\n",
    "            decoder_out[i] = answer[0]\n",
    "        \n",
    "        return torch.transpose(decoder_out, 0, 1), alphas"
   ]
  },
  {
   "cell_type": "markdown",
   "metadata": {},
   "source": [
    "# Train model"
   ]
  },
  {
   "cell_type": "code",
   "execution_count": 11,
   "metadata": {},
   "outputs": [],
   "source": [
    "def train_epoch(train_generator, model, loss_function, optimizer):\n",
    "    model.train()\n",
    "    loss = 0\n",
    "    counter = 0\n",
    "    for it, (batch_of_x, batch_of_y) in enumerate(train_generator):\n",
    "        loss += model.train_on_batch(batch_of_x, batch_of_y, optimizer, loss_function)\n",
    "        counter += 1\n",
    "    return loss/counter"
   ]
  },
  {
   "cell_type": "code",
   "execution_count": 12,
   "metadata": {},
   "outputs": [],
   "source": [
    "def trainer(count_of_epoch, batch_size, \n",
    "            X_train, Y_train, X_test, Y_test,\n",
    "            model, loss_function,\n",
    "            optimizer,\n",
    "            lr = 0.001,\n",
    "            callback = None):\n",
    "    \n",
    "    list_of_loss_train = []\n",
    "    list_of_loss_test = []\n",
    "    \n",
    "    X_test_tr = torch.Tensor(X_test)\n",
    "    X_train_tr = torch.Tensor(X_train)\n",
    "    \n",
    "    Y_train_tr = torch.Tensor(Y_train)\n",
    "    Y_test_tr = torch.Tensor(Y_test)\n",
    "    for it in tqdm(range(count_of_epoch)):\n",
    "        optima = optimizer(model.parameters(), lr = lr)\n",
    "        batch_generator = batches_generator(\n",
    "                                            batch_size=batch_size,\n",
    "                                            input=X_train,\n",
    "                                            output=Y_train,\n",
    "                                            shuffle=True,\n",
    "                                            allow_smaller_last_batch=True\n",
    "                                        )\n",
    "        \n",
    "        loss = train_epoch(train_generator = batch_generator, model = model, loss_function = loss_function, optimizer = optima)\n",
    "        \n",
    "\n",
    "        if callback is not None:\n",
    "            callback(model, loss, X_train_tr, X_test_tr, Y_train_tr, Y_test_tr)\n",
    "    \n",
    "    return\n",
    "        "
   ]
  },
  {
   "cell_type": "markdown",
   "metadata": {},
   "source": [
    "# Define model"
   ]
  },
  {
   "cell_type": "code",
   "execution_count": 13,
   "metadata": {},
   "outputs": [],
   "source": [
    "# model = LSTM(input_dim = 1, hidden_dim = 10, output_dim = 1, num_layers = 3)"
   ]
  },
  {
   "cell_type": "code",
   "execution_count": 14,
   "metadata": {},
   "outputs": [],
   "source": [
    "model = seq2seq(input_dim = 1, hidden_dim = 2, output_dim = 1, a_hidden_dim = 10, num_layers = 1)"
   ]
  },
  {
   "cell_type": "code",
   "execution_count": 15,
   "metadata": {},
   "outputs": [],
   "source": [
    "def callback(model, loss, X_train_tr, X_test_tr, Y_train_tr, Y_test_tr, M = 1):\n",
    "    model.eval()\n",
    "    list_of_loss_train.append(loss)\n",
    "    step = len(list_of_loss_train)\n",
    "    writer.add_scalar('LSTM/scalar', list_of_loss_train[-1], step)\n",
    "\n",
    "    if step % 50 == 0:\n",
    "        res, alphas = model.get_attention(X_train_tr[M-1:M], max_len = Y_train_tr.shape[1])\n",
    "#         res = model(X_train_tr[M-1:M], max_len = Y_train_tr.shape[1])\n",
    "    \n",
    "        fig = plt.figure()\n",
    "        plt.plot(np.reshape(Y_train_tr[M-1:M].data.numpy(), [-1]), 'o')\n",
    "        plt.plot(np.reshape(res.data.numpy(), [-1]), 'o')\n",
    "        writer.add_figure('LSTM/timeSeries', fig, step)\n",
    "\n",
    "        fig = plt.figure()\n",
    "        plt.imshow(alphas[0, :, :].data.numpy())\n",
    "        writer.add_figure('LSTM/Attention', fig, step)\n"
   ]
  },
  {
   "cell_type": "code",
   "execution_count": 16,
   "metadata": {},
   "outputs": [],
   "source": [
    "writer = SummaryWriter()\n",
    "list_of_loss_train = []\n",
    "list_of_loss_test = []"
   ]
  },
  {
   "cell_type": "code",
   "execution_count": null,
   "metadata": {},
   "outputs": [
    {
     "data": {
      "application/vnd.jupyter.widget-view+json": {
       "model_id": "cf4e6dfb00064c41930656ea5dfa9304",
       "version_major": 2,
       "version_minor": 0
      },
      "text/plain": [
       "HBox(children=(IntProgress(value=0, max=10000), HTML(value='')))"
      ]
     },
     "metadata": {},
     "output_type": "display_data"
    }
   ],
   "source": [
    "trainer(count_of_epoch = 10000,\n",
    "        batch_size = 64,\n",
    "        X_train = X_train,\n",
    "        Y_train = Y_train,\n",
    "        X_test = X_test,\n",
    "        Y_test = Y_test,\n",
    "        model = model,\n",
    "        loss_function = torch.nn.MSELoss(),\n",
    "        optimizer = torch.optim.Adam,\n",
    "        lr = 0.01,\n",
    "        callback = callback\n",
    "       )"
   ]
  },
  {
   "cell_type": "code",
   "execution_count": null,
   "metadata": {},
   "outputs": [],
   "source": []
  }
 ],
 "metadata": {
  "kernelspec": {
   "display_name": "Python 3",
   "language": "python",
   "name": "python3"
  },
  "language_info": {
   "codemirror_mode": {
    "name": "ipython",
    "version": 3
   },
   "file_extension": ".py",
   "mimetype": "text/x-python",
   "name": "python",
   "nbconvert_exporter": "python",
   "pygments_lexer": "ipython3",
   "version": "3.6.2"
  }
 },
 "nbformat": 4,
 "nbformat_minor": 2
}
